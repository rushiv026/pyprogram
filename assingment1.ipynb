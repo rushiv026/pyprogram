{
 "cells": [
  {
   "cell_type": "code",
   "execution_count": 12,
   "id": "e889eda3-0d2e-45b4-8ab7-a240ddd91fa6",
   "metadata": {},
   "outputs": [
    {
     "name": "stdout",
     "output_type": "stream",
     "text": [
      "<class 'str'>\n",
      "<class 'list'>\n",
      "<class 'float'>\n",
      "<class 'tuple'>\n"
     ]
    }
   ],
   "source": [
    "#Q1. Create one variable containing following type of data:\n",
    "#(i) string\n",
    "#(ii) list\n",
    "#(iii) float\n",
    "#(iv) tuple\n",
    "\n",
    "s=\"rusk\"\n",
    "print(type(s))\n",
    "\n",
    "list1=[1,2,3,4,'rus',50.90]\n",
    "print(type(list1))\n",
    "\n",
    "f=10.20\n",
    "print(type(f))\n",
    "\n",
    "tuple1=(1,2,3,40.56,'rytg')\n",
    "print(type(tuple1))"
   ]
  },
  {
   "cell_type": "code",
   "execution_count": 20,
   "id": "de1449bb-67e4-477c-8109-0d82d5f4cdf9",
   "metadata": {},
   "outputs": [
    {
     "name": "stdout",
     "output_type": "stream",
     "text": [
      "<class 'str'>\n",
      "<class 'str'>\n",
      "<class 'list'>\n",
      "<class 'int'>\n"
     ]
    }
   ],
   "source": [
    "#Q2. Given are some following variables containing data:\n",
    "#(i) var1 = ‘ ‘\n",
    "#(ii) var2 = ‘[ DS , ML , Python]’\n",
    "#(iii) var3 = [ ‘DS’ , ’ML’ , ‘Python’ ]\n",
    "#(iv) var4 = 1.\n",
    "\n",
    "var1 = ' '\n",
    "print(type(var1))\n",
    "\n",
    "var2 = '[ DS , ML , Python]'\n",
    "print(type(var2))\n",
    "\n",
    "var3 = [ 'DS' , 'ML' , 'Python' ]\n",
    "print(type(var3))\n",
    "\n",
    "var4 = 1\n",
    "print(type(var4))\n"
   ]
  },
  {
   "cell_type": "code",
   "execution_count": 36,
   "id": "90e7c459-01f9-4823-85c1-bfdea9d7d835",
   "metadata": {},
   "outputs": [
    {
     "data": {
      "text/plain": [
       "2.0"
      ]
     },
     "execution_count": 36,
     "metadata": {},
     "output_type": "execute_result"
    }
   ],
   "source": [
    "#Q3. Explain the use of the following operators using an example:\n",
    "#(i) /\n",
    "#(ii) %\n",
    "#(iii) //\n",
    "#(iv) **\n",
    "a=10\n",
    "b=5\n",
    " \n",
    "a/b"
   ]
  },
  {
   "cell_type": "code",
   "execution_count": 31,
   "id": "fe51a70f-1be9-416f-9c3c-462e172c1f3b",
   "metadata": {},
   "outputs": [
    {
     "data": {
      "text/plain": [
       "1"
      ]
     },
     "execution_count": 31,
     "metadata": {},
     "output_type": "execute_result"
    }
   ],
   "source": [
    "c=4\n",
    "d=3\n",
    "c%d"
   ]
  },
  {
   "cell_type": "code",
   "execution_count": 32,
   "id": "d03ab93e-ba27-4193-9296-fef1d31940ba",
   "metadata": {},
   "outputs": [
    {
     "data": {
      "text/plain": [
       "1"
      ]
     },
     "execution_count": 32,
     "metadata": {},
     "output_type": "execute_result"
    }
   ],
   "source": [
    "c//d"
   ]
  },
  {
   "cell_type": "code",
   "execution_count": 34,
   "id": "1b70a0b9-0984-45f6-9f6b-e673c6110d71",
   "metadata": {},
   "outputs": [
    {
     "data": {
      "text/plain": [
       "64"
      ]
     },
     "execution_count": 34,
     "metadata": {},
     "output_type": "execute_result"
    }
   ],
   "source": [
    "c**d"
   ]
  },
  {
   "cell_type": "code",
   "execution_count": 29,
   "id": "a75694ed-3d42-473c-a831-2947c182c662",
   "metadata": {},
   "outputs": [
    {
     "data": {
      "text/plain": [
       "1"
      ]
     },
     "execution_count": 29,
     "metadata": {},
     "output_type": "execute_result"
    }
   ],
   "source": [
    "1**3"
   ]
  },
  {
   "cell_type": "code",
   "execution_count": 30,
   "id": "27d73804-3625-43f9-8f16-18036b515cf9",
   "metadata": {},
   "outputs": [
    {
     "data": {
      "text/plain": [
       "8"
      ]
     },
     "execution_count": 30,
     "metadata": {},
     "output_type": "execute_result"
    }
   ],
   "source": [
    "2**3"
   ]
  },
  {
   "cell_type": "code",
   "execution_count": 37,
   "id": "4540b0d0-7764-418f-8a59-c2d734ee666f",
   "metadata": {},
   "outputs": [
    {
     "data": {
      "text/plain": [
       "[1, 2, 3, 4, 5, 'a', 'b', 40.59, 'hsi']"
      ]
     },
     "execution_count": 37,
     "metadata": {},
     "output_type": "execute_result"
    }
   ],
   "source": [
    "#Q4. Create a list of length 10 of your choice containing multiple types of data. Using for loop print the\n",
    "#element and its data type.\n",
    "list2=[1,2,3,4,5,'a','b',40.59,'hsi']\n",
    "list2"
   ]
  },
  {
   "cell_type": "code",
   "execution_count": 40,
   "id": "3360e74e-003e-4682-bca6-e13f650cb4d6",
   "metadata": {},
   "outputs": [
    {
     "name": "stdout",
     "output_type": "stream",
     "text": [
      "<class 'int'>\n",
      "1\n",
      "<class 'int'>\n",
      "2\n",
      "<class 'int'>\n",
      "3\n",
      "<class 'int'>\n",
      "4\n",
      "<class 'int'>\n",
      "5\n",
      "<class 'str'>\n",
      "a\n",
      "<class 'str'>\n",
      "b\n",
      "<class 'float'>\n",
      "40.59\n",
      "<class 'str'>\n",
      "hsi\n"
     ]
    }
   ],
   "source": [
    "for i in list2:\n",
    "    print(type(i))\n",
    "    print(i)"
   ]
  },
  {
   "cell_type": "code",
   "execution_count": null,
   "id": "1501e511-38ca-4362-b60f-f3364015873f",
   "metadata": {},
   "outputs": [],
   "source": [
    "#Q5. Using a while loop, verify if the number A is purely divisible by number B and if so then how many\n",
    "#times it can be divisible.\n",
    "\n",
    "a=50\n",
    "b=10\n",
    "sum=0\n",
    "while a%b==0:\n",
    "    sum++\n",
    "    print(sum)\n",
    "   \n",
    "    "
   ]
  },
  {
   "cell_type": "code",
   "execution_count": 47,
   "id": "0a900c32-10d6-4f44-9c71-91568c7dcf37",
   "metadata": {},
   "outputs": [],
   "source": [
    "#Q6. Create a list containing 25 int type data. Using for loop and if-else condition print if the element \n",
    "#is divisible by 3 or not.\n",
    "r=[20,21,23,24,27,33,30,5,6,34,56,768,897,34,232,446,68,353,5433,343]\n"
   ]
  },
  {
   "cell_type": "code",
   "execution_count": 49,
   "id": "46b0d2c6-6488-452c-a835-725aea1c4554",
   "metadata": {},
   "outputs": [
    {
     "name": "stdout",
     "output_type": "stream",
     "text": [
      "not division\n",
      "21\n",
      "not division\n",
      "24\n",
      "27\n",
      "33\n",
      "30\n",
      "not division\n",
      "6\n",
      "not division\n",
      "not division\n",
      "768\n",
      "897\n",
      "not division\n",
      "not division\n",
      "not division\n",
      "not division\n",
      "not division\n",
      "5433\n",
      "not division\n"
     ]
    }
   ],
   "source": [
    "for i in r:\n",
    "    if(i%3==0):\n",
    "        print(i)\n",
    "    else:\n",
    "        print(\"not division\")"
   ]
  },
  {
   "cell_type": "code",
   "execution_count": 57,
   "id": "cf18936e-3ba0-49d6-9070-91538d59202e",
   "metadata": {},
   "outputs": [
    {
     "name": "stdout",
     "output_type": "stream",
     "text": [
      "<class 'list'>\n",
      "<class 'tuple'>\n",
      "[37, 20.3, 'ru']\n"
     ]
    },
    {
     "ename": "TypeError",
     "evalue": "'tuple' object does not support item assignment",
     "output_type": "error",
     "traceback": [
      "\u001b[0;31m---------------------------------------------------------------------------\u001b[0m",
      "\u001b[0;31mTypeError\u001b[0m                                 Traceback (most recent call last)",
      "Cell \u001b[0;32mIn[57], line 10\u001b[0m\n\u001b[1;32m      8\u001b[0m w[\u001b[38;5;241m0\u001b[39m]\u001b[38;5;241m=\u001b[39m\u001b[38;5;241m37\u001b[39m\n\u001b[1;32m      9\u001b[0m \u001b[38;5;28mprint\u001b[39m(w)\n\u001b[0;32m---> 10\u001b[0m \u001b[43me\u001b[49m\u001b[43m[\u001b[49m\u001b[38;5;241;43m2\u001b[39;49m\u001b[43m]\u001b[49m\u001b[38;5;241m=\u001b[39m\u001b[38;5;241m39\u001b[39m\n\u001b[1;32m     11\u001b[0m w\u001b[38;5;241m.\u001b[39mappend(\u001b[38;5;241m45\u001b[39m)\n",
      "\u001b[0;31mTypeError\u001b[0m: 'tuple' object does not support item assignment"
     ]
    }
   ],
   "source": [
    "#Q7. What do you understand about mutable and immutable data types? Give examples for both showing\n",
    "#this property.\n",
    "w=[10,20.30,'ru']\n",
    "print(type(w))\n",
    "e=(29,49.43,'tu')\n",
    "print(type(e))\n",
    "\n",
    "w[0]=37\n",
    "print(w)\n",
    "e[2]=39\n",
    "w.append(45)\n"
   ]
  },
  {
   "cell_type": "code",
   "execution_count": null,
   "id": "19d55160-b3fe-4391-8000-52f2efb3790a",
   "metadata": {},
   "outputs": [],
   "source": []
  }
 ],
 "metadata": {
  "kernelspec": {
   "display_name": "Python 3 (ipykernel)",
   "language": "python",
   "name": "python3"
  },
  "language_info": {
   "codemirror_mode": {
    "name": "ipython",
    "version": 3
   },
   "file_extension": ".py",
   "mimetype": "text/x-python",
   "name": "python",
   "nbconvert_exporter": "python",
   "pygments_lexer": "ipython3",
   "version": "3.10.8"
  }
 },
 "nbformat": 4,
 "nbformat_minor": 5
}
