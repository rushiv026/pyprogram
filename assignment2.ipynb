{
 "cells": [
  {
   "cell_type": "code",
   "execution_count": 4,
   "id": "4c1fc6fe-572a-40dc-8471-48c8663a80be",
   "metadata": {},
   "outputs": [
    {
     "name": "stdout",
     "output_type": "stream",
     "text": [
      "single line\n",
      "Multiline\n"
     ]
    }
   ],
   "source": [
    "#Q1. How do you comment code in Python? What are the different types of comments?\n",
    "#comment are two type 1)single line 2)multilinetype \n",
    "\n",
    "#declare variable 1)singleline \n",
    "print(\"single line\")\n",
    " \n",
    "# Python program t\n",
    "# multiline comments\n",
    "\"\"\"hey i am \n",
    "rushi vyavahare\"\"\"\n",
    "print(\"Multiline\")\n",
    "\n",
    "\n"
   ]
  },
  {
   "cell_type": "code",
   "execution_count": 8,
   "id": "6da5beda-b4e0-4ef0-902e-121152f51604",
   "metadata": {},
   "outputs": [
    {
     "name": "stdout",
     "output_type": "stream",
     "text": [
      "<class 'int'>\n",
      "<class 'float'>\n",
      "<class 'str'>\n"
     ]
    }
   ],
   "source": [
    "#Q2. What are variables in Python? How do you declare and assign values to variables?\n",
    "\"\"\"--> variable are many type int ,float ,string.but python programming languege are not requied \n",
    "declare varaible specification\"\"\"\n",
    "a=10\n",
    "b=20.894\n",
    "c='rushi'\n",
    "print(type(a))\n",
    "print(type(b))\n",
    "print(type(c))"
   ]
  },
  {
   "cell_type": "code",
   "execution_count": 12,
   "id": "34f60a62-409d-4df3-807e-575178db6c27",
   "metadata": {},
   "outputs": [
    {
     "data": {
      "text/plain": [
       "10"
      ]
     },
     "execution_count": 12,
     "metadata": {},
     "output_type": "execute_result"
    }
   ],
   "source": [
    "#Q3. How do you convert one data type to another in Python?\n",
    "s=\"10\"\n",
    "b=int(s)\n",
    "b\n"
   ]
  },
  {
   "cell_type": "code",
   "execution_count": 13,
   "id": "83579857-f3ae-481b-8de5-e28d36e7dbf9",
   "metadata": {},
   "outputs": [
    {
     "data": {
      "text/plain": [
       "int"
      ]
     },
     "execution_count": 13,
     "metadata": {},
     "output_type": "execute_result"
    }
   ],
   "source": [
    "type(b)"
   ]
  },
  {
   "cell_type": "code",
   "execution_count": 14,
   "id": "fc2d7f07-8f0a-4c7a-b328-c08c97c7676a",
   "metadata": {},
   "outputs": [],
   "source": [
    "d=10\n",
    "a=str(d)"
   ]
  },
  {
   "cell_type": "code",
   "execution_count": 15,
   "id": "50984248-e0ba-4b3a-b6fa-ad9a33d175c9",
   "metadata": {},
   "outputs": [
    {
     "data": {
      "text/plain": [
       "'10'"
      ]
     },
     "execution_count": 15,
     "metadata": {},
     "output_type": "execute_result"
    }
   ],
   "source": [
    "a"
   ]
  },
  {
   "cell_type": "code",
   "execution_count": 16,
   "id": "ec61a992-be04-4df8-a79d-8167d4c35420",
   "metadata": {},
   "outputs": [
    {
     "data": {
      "text/plain": [
       "str"
      ]
     },
     "execution_count": 16,
     "metadata": {},
     "output_type": "execute_result"
    }
   ],
   "source": [
    "type(a)"
   ]
  },
  {
   "cell_type": "code",
   "execution_count": 17,
   "id": "5de485d2-ae20-4bba-85cc-2ea80f4ea376",
   "metadata": {},
   "outputs": [],
   "source": [
    "c='rushikesh'"
   ]
  },
  {
   "cell_type": "code",
   "execution_count": 18,
   "id": "02f336f6-3279-4df6-a352-fe880b11e54a",
   "metadata": {},
   "outputs": [],
   "source": [
    "t1=tuple(c)"
   ]
  },
  {
   "cell_type": "code",
   "execution_count": 19,
   "id": "bf2dc86b-eaf4-46d9-a531-08c30c58c8b6",
   "metadata": {},
   "outputs": [
    {
     "data": {
      "text/plain": [
       "('r', 'u', 's', 'h', 'i', 'k', 'e', 's', 'h')"
      ]
     },
     "execution_count": 19,
     "metadata": {},
     "output_type": "execute_result"
    }
   ],
   "source": [
    "t1"
   ]
  },
  {
   "cell_type": "code",
   "execution_count": 20,
   "id": "8e31665f-f8ff-4bdd-a6e0-f7d8334f1249",
   "metadata": {},
   "outputs": [],
   "source": [
    "s1=set(c)"
   ]
  },
  {
   "cell_type": "code",
   "execution_count": 21,
   "id": "5b3a43e9-c95a-4561-aff6-52e41c7491d4",
   "metadata": {},
   "outputs": [
    {
     "data": {
      "text/plain": [
       "{'e', 'h', 'i', 'k', 'r', 's', 'u'}"
      ]
     },
     "execution_count": 21,
     "metadata": {},
     "output_type": "execute_result"
    }
   ],
   "source": [
    "s1"
   ]
  },
  {
   "cell_type": "code",
   "execution_count": 22,
   "id": "462cd820-b297-4970-b68a-1a1dd1bd0ccd",
   "metadata": {},
   "outputs": [],
   "source": [
    "l1=list(c)"
   ]
  },
  {
   "cell_type": "code",
   "execution_count": 23,
   "id": "9a762d15-e574-4c64-adeb-c8abe1ba1434",
   "metadata": {},
   "outputs": [
    {
     "data": {
      "text/plain": [
       "['r', 'u', 's', 'h', 'i', 'k', 'e', 's', 'h']"
      ]
     },
     "execution_count": 23,
     "metadata": {},
     "output_type": "execute_result"
    }
   ],
   "source": [
    "l1"
   ]
  },
  {
   "cell_type": "code",
   "execution_count": 24,
   "id": "37e4ad04-c34a-4878-a808-eac8e8b48b12",
   "metadata": {},
   "outputs": [],
   "source": [
    "b2='hello'\n"
   ]
  },
  {
   "cell_type": "code",
   "execution_count": 25,
   "id": "98051bc6-1dca-4e7f-96dc-e3053ce3f3c6",
   "metadata": {},
   "outputs": [
    {
     "name": "stdout",
     "output_type": "stream",
     "text": [
      "after converting string to tuple ('h', 'e', 'l', 'l', 'o')\n"
     ]
    }
   ],
   "source": [
    "b3=tuple(b2)\n",
    "print(\"after converting string to tuple\",b3)"
   ]
  },
  {
   "cell_type": "code",
   "execution_count": 31,
   "id": "9d71375f-7a76-4a4d-970c-99dea7e9d52b",
   "metadata": {},
   "outputs": [
    {
     "name": "stdout",
     "output_type": "stream",
     "text": [
      "number of argument 3\n"
     ]
    }
   ],
   "source": [
    "#Q4.How do you write and execute a Python script from the command line?\n",
    "import sys\n",
    "print('number of argument',len(sys.argv))\n"
   ]
  },
  {
   "cell_type": "code",
   "execution_count": 32,
   "id": "2bb3f94a-bbc2-4327-99fa-96385cd6212d",
   "metadata": {},
   "outputs": [],
   "source": [
    "#Q5. Given a list my_list = [1, 2, 3, 4, 5], write the code to slice the list and obtain the sub-list [2, 3].\n",
    "my_list=[1,2,3,4,5]"
   ]
  },
  {
   "cell_type": "code",
   "execution_count": 33,
   "id": "6e582c97-de6c-42b6-9ecf-c9b6d2aa1b1c",
   "metadata": {},
   "outputs": [
    {
     "data": {
      "text/plain": [
       "[2, 3]"
      ]
     },
     "execution_count": 33,
     "metadata": {},
     "output_type": "execute_result"
    }
   ],
   "source": [
    "my_list[1:3]"
   ]
  },
  {
   "cell_type": "code",
   "execution_count": 34,
   "id": "fe7f9ad8-6114-4545-ad11-527f555ff1b0",
   "metadata": {},
   "outputs": [
    {
     "data": {
      "text/plain": [
       "complex"
      ]
     },
     "execution_count": 34,
     "metadata": {},
     "output_type": "execute_result"
    }
   ],
   "source": [
    "#Q6. What is a complex number in mathematics, and how is it represented in Python?\n",
    "\"\"\"the complex number contain real number and imagenary number for ex 2+3j 2 is real number \n",
    "and 3j is imaginary number\"\"\"\n",
    "a=3+5j\n",
    "type(a)"
   ]
  },
  {
   "cell_type": "code",
   "execution_count": 35,
   "id": "7d3c2169-50a1-4f5c-818d-e26e9701d4c8",
   "metadata": {},
   "outputs": [],
   "source": [
    "#Q7. What is the correct way to declare a variable named age and assign the value 25 to it?\n",
    "age=25"
   ]
  },
  {
   "cell_type": "code",
   "execution_count": 36,
   "id": "cab4dc9c-3503-47d0-bf8e-0d4b8139103f",
   "metadata": {},
   "outputs": [
    {
     "data": {
      "text/plain": [
       "int"
      ]
     },
     "execution_count": 36,
     "metadata": {},
     "output_type": "execute_result"
    }
   ],
   "source": [
    "type(age)"
   ]
  },
  {
   "cell_type": "code",
   "execution_count": 37,
   "id": "9e50b1b1-2e0f-4bf2-adbe-01be695d2a06",
   "metadata": {},
   "outputs": [
    {
     "data": {
      "text/plain": [
       "float"
      ]
     },
     "execution_count": 37,
     "metadata": {},
     "output_type": "execute_result"
    }
   ],
   "source": [
    "#Q8. Declare a variable named price and assign the value 9.99 to it. What data type does this variable\n",
    "#belong to?\n",
    "price=9.99\n",
    "type(price)\n"
   ]
  },
  {
   "cell_type": "code",
   "execution_count": 38,
   "id": "6c5f7d88-8249-4ab0-baf3-8e3262ea819a",
   "metadata": {},
   "outputs": [],
   "source": [
    "#Q9. Create a variable named name and assign your full name to it as a string. How would you print the\n",
    "#value of this variable?\n",
    "name=\"rushikesh santosh vyavahar\""
   ]
  },
  {
   "cell_type": "code",
   "execution_count": 40,
   "id": "ad392986-6219-4ecd-bd1d-5ae172cd3e20",
   "metadata": {},
   "outputs": [
    {
     "data": {
      "text/plain": [
       "'rushikesh santosh vyavahare'"
      ]
     },
     "execution_count": 40,
     "metadata": {},
     "output_type": "execute_result"
    }
   ],
   "source": [
    "name"
   ]
  },
  {
   "cell_type": "code",
   "execution_count": 41,
   "id": "cb43c612-bc15-49c4-b262-9792b0614d79",
   "metadata": {},
   "outputs": [],
   "source": [
    "#Q10. Given the string \"Hello, World!\", extract the substring \"World\".\n",
    "s=\"Hello, World!\"\n"
   ]
  },
  {
   "cell_type": "code",
   "execution_count": 44,
   "id": "cc5ec938-647d-4e51-901d-b6a86d9a27b2",
   "metadata": {},
   "outputs": [
    {
     "data": {
      "text/plain": [
       "' World'"
      ]
     },
     "execution_count": 44,
     "metadata": {},
     "output_type": "execute_result"
    }
   ],
   "source": [
    "s[-7:-1:1]"
   ]
  },
  {
   "cell_type": "code",
   "execution_count": 45,
   "id": "ab447a9a-0ed0-40d6-bc4c-85f854667a76",
   "metadata": {},
   "outputs": [
    {
     "data": {
      "text/plain": [
       "'World'"
      ]
     },
     "execution_count": 45,
     "metadata": {},
     "output_type": "execute_result"
    }
   ],
   "source": [
    "s[7:12]"
   ]
  },
  {
   "cell_type": "code",
   "execution_count": 46,
   "id": "751a81a7-30fc-40e4-ac5e-89a973f7d571",
   "metadata": {},
   "outputs": [
    {
     "name": "stdout",
     "output_type": "stream",
     "text": [
      "True\n"
     ]
    }
   ],
   "source": [
    "#Q11. Create a variable named \"is_student\" and assign it a boolean value indicating whether you are\n",
    "#currently a student or not.\n",
    "is_student=True\n",
    "print(is_student)"
   ]
  },
  {
   "cell_type": "code",
   "execution_count": null,
   "id": "464c8164-5508-4cf9-8825-b78303fb51d4",
   "metadata": {},
   "outputs": [],
   "source": []
  }
 ],
 "metadata": {
  "kernelspec": {
   "display_name": "Python 3 (ipykernel)",
   "language": "python",
   "name": "python3"
  },
  "language_info": {
   "codemirror_mode": {
    "name": "ipython",
    "version": 3
   },
   "file_extension": ".py",
   "mimetype": "text/x-python",
   "name": "python",
   "nbconvert_exporter": "python",
   "pygments_lexer": "ipython3",
   "version": "3.10.8"
  }
 },
 "nbformat": 4,
 "nbformat_minor": 5
}
