{
 "cells": [
  {
   "cell_type": "code",
   "execution_count": 1,
   "id": "5cf6d2ce-261b-4202-bf8f-1298dd3d23e7",
   "metadata": {},
   "outputs": [],
   "source": [
    "#Q1. Which keyword is used to create a function? Create a function to return a list of odd numbers in the\n",
    "#range of 1 to 25.\n",
    "def odd(n):\n",
    "    l1=[]\n",
    "    for i in range(1,n+1):\n",
    "        if(i%2!=0):\n",
    "            l1.append(i)\n",
    "    return l1\n"
   ]
  },
  {
   "cell_type": "code",
   "execution_count": 2,
   "id": "5a5bd0d7-15c5-49c6-b9f2-3b996507c59a",
   "metadata": {},
   "outputs": [
    {
     "data": {
      "text/plain": [
       "[1, 3, 5, 7, 9, 11, 13, 15, 17, 19, 21, 23, 25]"
      ]
     },
     "execution_count": 2,
     "metadata": {},
     "output_type": "execute_result"
    }
   ],
   "source": [
    "odd(25)"
   ]
  },
  {
   "cell_type": "code",
   "execution_count": 1,
   "id": "d55975c6-3924-4dff-b1a2-b1a3fff3cada",
   "metadata": {},
   "outputs": [],
   "source": [
    "#Q2. Why *args and **kwargs is used in some functions? Create a function each for *args and **kwargs\n",
    "#to demonstrate their use.\n",
    "\n",
    "def demo1(*args):\n",
    "    \"\"\"a function for *args to demonstrate its use.\"\"\"\n",
    "    index=0\n",
    "    for i in args:\n",
    "        print(\"The args[\"+str(index)+\"] having:\",i)\n",
    "        index+=1\n",
    "   \n",
    " "
   ]
  },
  {
   "cell_type": "code",
   "execution_count": 2,
   "id": "fbe370f0-9ae9-440e-b001-04c80aa3f2b5",
   "metadata": {},
   "outputs": [
    {
     "name": "stdout",
     "output_type": "stream",
     "text": [
      "The args[0] having: Hi\n",
      "The args[1] having: There\n",
      "The args[2] having: This is test\n",
      "The args[3] having: 1\n"
     ]
    }
   ],
   "source": [
    "   demo1(\"Hi\", \"There\", \"This is test\", 1)\n",
    "    \n",
    "    "
   ]
  },
  {
   "cell_type": "code",
   "execution_count": 20,
   "id": "e5bda919-44d6-48f7-a34f-b36678068735",
   "metadata": {},
   "outputs": [
    {
     "name": "stdout",
     "output_type": "stream",
     "text": [
      "Firstname == rushi\n",
      "Lastname == vyavahare\n",
      "Age == 22\n",
      "Phone == 1234567890\n"
     ]
    }
   ],
   "source": [
    "def myfun(**kwargs):\n",
    "    type(kwargs)\n",
    "    for key,value in kwargs.items():\n",
    "        print(\"{} == {}\".format(key, value))\n",
    "\n",
    "myfun(Firstname=\"rushi\", Lastname=\"vyavahare\", Age=22, Phone=1234567890)\n"
   ]
  },
  {
   "cell_type": "code",
   "execution_count": 4,
   "id": "1a1b8b6c-c85a-4e77-85b6-a12b08073e11",
   "metadata": {},
   "outputs": [],
   "source": [
    "#Q3. What is an iterator in python? Name the method used to initialise the iterator object and the method\n",
    "    #used for iteration. Use these methods to print the first five elements of the given list [2, 4, 6, 8, 10, 12, 14,\n",
    "    #16, 18, 20]."
   ]
  },
  {
   "cell_type": "code",
   "execution_count": 13,
   "id": "85db9f7a-b254-43b8-ac82-824a7fcdec99",
   "metadata": {},
   "outputs": [
    {
     "name": "stdout",
     "output_type": "stream",
     "text": [
      "2\n",
      "4\n",
      "6\n",
      "8\n",
      "10\n"
     ]
    }
   ],
   "source": [
    "l= [2, 4, 6, 8, 10, 12, 14,16, 18, 20]\n",
    "iterator=iter(l)\n",
    "for i in range(5):\n",
    "    element=next(iterator)\n",
    "    print(element)"
   ]
  },
  {
   "cell_type": "code",
   "execution_count": 22,
   "id": "c3b5f307-59c3-4090-8587-485203d6fef3",
   "metadata": {},
   "outputs": [],
   "source": [
    "#Q4. What is a generator function in python? Why yield keyword is used? Give an example of a generator function.\n",
    "''' generator function is the same as the function.but we can use yield function to print the value for example'''\n",
    "def my(n):\n",
    "    for i in range(n):\n",
    "        yield(i)"
   ]
  },
  {
   "cell_type": "code",
   "execution_count": 23,
   "id": "66c0c77c-6f43-4ba9-85b1-a1fe02363310",
   "metadata": {},
   "outputs": [
    {
     "name": "stdout",
     "output_type": "stream",
     "text": [
      "0\n",
      "1\n",
      "2\n",
      "3\n",
      "4\n",
      "5\n",
      "6\n",
      "7\n",
      "8\n",
      "9\n"
     ]
    }
   ],
   "source": [
    "for i in my(10):\n",
    "    print(i)"
   ]
  },
  {
   "cell_type": "code",
   "execution_count": 33,
   "id": "03f82b3b-e631-458d-b853-81118bdb5cd6",
   "metadata": {},
   "outputs": [],
   "source": [
    "def fab(n):\n",
    "    a,b=0,1\n",
    "    for i in range(n):\n",
    "        yield a\n",
    "        c=a+b\n",
    "        a=b\n",
    "        b=c"
   ]
  },
  {
   "cell_type": "code",
   "execution_count": 34,
   "id": "f90b182b-8d14-4652-9d08-009cb5f6e0ce",
   "metadata": {},
   "outputs": [
    {
     "name": "stdout",
     "output_type": "stream",
     "text": [
      "0\n",
      "1\n",
      "1\n",
      "2\n",
      "3\n",
      "5\n",
      "8\n",
      "13\n",
      "21\n",
      "34\n"
     ]
    }
   ],
   "source": [
    "for i in fab(10):\n",
    "    print(i)"
   ]
  },
  {
   "cell_type": "code",
   "execution_count": 27,
   "id": "ae99ddf6-a9aa-496b-a5f4-1fcc9810e62f",
   "metadata": {},
   "outputs": [
    {
     "name": "stdout",
     "output_type": "stream",
     "text": [
      "2\n",
      "3\n",
      "5\n",
      "7\n",
      "11\n",
      "13\n",
      "17\n",
      "19\n",
      "23\n",
      "29\n",
      "31\n",
      "37\n",
      "41\n",
      "43\n",
      "47\n",
      "53\n",
      "59\n",
      "61\n",
      "67\n",
      "71\n"
     ]
    }
   ],
   "source": [
    "#Q5. Create a generator function for prime numbers less than 1000. Use the next() method to print the\n",
    "#first 20 prime numbers.\n",
    "def test():\n",
    "    l3=[]\n",
    "    for i in range(2,1001):\n",
    "        for j in l3:\n",
    "            if i % j==0:\n",
    "                break\n",
    "        else:\n",
    "            l3.append(i)\n",
    "            yield i\n",
    "prime_gen = test()\n",
    "# the next() method to print the first 20 prime numbers.\n",
    "for s in range(20):\n",
    "    print(next(prime_gen))"
   ]
  },
  {
   "cell_type": "code",
   "execution_count": null,
   "id": "219b21e9-6791-4770-9941-95a06ba5ac4c",
   "metadata": {},
   "outputs": [],
   "source": [
    "#Q6. Write a python program to print the first 10 Fibonacci numbers using a while loop.\n",
    "def my():\n",
    "    a,b=1,1\n",
    "    while True:\n",
    "        yield a\n",
    "        a,b=b,a+b"
   ]
  },
  {
   "cell_type": "code",
   "execution_count": 30,
   "id": "5c34ff63-f61a-4f55-a587-e26ed8c3a979",
   "metadata": {},
   "outputs": [],
   "source": [
    "b=my()"
   ]
  },
  {
   "cell_type": "code",
   "execution_count": 31,
   "id": "c177cf12-ef60-4ee6-95d1-d11ad6d0e079",
   "metadata": {},
   "outputs": [
    {
     "name": "stdout",
     "output_type": "stream",
     "text": [
      "1\n",
      "1\n",
      "2\n",
      "3\n",
      "5\n",
      "8\n",
      "13\n",
      "21\n",
      "34\n",
      "55\n"
     ]
    }
   ],
   "source": [
    "for i in range(10):\n",
    "    print(next(b))\n",
    "    "
   ]
  },
  {
   "cell_type": "code",
   "execution_count": null,
   "id": "81cc15b3-72e0-4274-b6fd-4396bf4b6c45",
   "metadata": {},
   "outputs": [],
   "source": [
    "#Q7. Write a List Comprehension to iterate through the given string: ‘pwskills’.\n",
    "Expected output: ['p', 'w', 's', 'k', 'i', 'l', 'l', 's']    "
   ]
  },
  {
   "cell_type": "code",
   "execution_count": 4,
   "id": "41857334-71ed-43c7-a085-251bcbdd06dd",
   "metadata": {},
   "outputs": [],
   "source": [
    "S=\"pwskills\""
   ]
  },
  {
   "cell_type": "code",
   "execution_count": 5,
   "id": "9e86b64e-ca91-4f65-81e8-34ed4d72c947",
   "metadata": {},
   "outputs": [
    {
     "data": {
      "text/plain": [
       "'pwskills'"
      ]
     },
     "execution_count": 5,
     "metadata": {},
     "output_type": "execute_result"
    }
   ],
   "source": [
    "S"
   ]
  },
  {
   "cell_type": "code",
   "execution_count": 6,
   "id": "06f4b45e-4687-4155-8f10-4945cdb05101",
   "metadata": {},
   "outputs": [],
   "source": [
    "l=list(S)"
   ]
  },
  {
   "cell_type": "code",
   "execution_count": 7,
   "id": "70896876-89dc-42fd-b45c-2f94c659e05d",
   "metadata": {},
   "outputs": [
    {
     "data": {
      "text/plain": [
       "['p', 'w', 's', 'k', 'i', 'l', 'l', 's']"
      ]
     },
     "execution_count": 7,
     "metadata": {},
     "output_type": "execute_result"
    }
   ],
   "source": [
    "l"
   ]
  },
  {
   "cell_type": "code",
   "execution_count": 1,
   "id": "53535e48-5ccc-4047-9906-9b9649933423",
   "metadata": {},
   "outputs": [
    {
     "name": "stdout",
     "output_type": "stream",
     "text": [
      "number palindrome\n"
     ]
    }
   ],
   "source": [
    "#Q8. Write a python program to check whether a given number is Palindrome or not using a while loop.\n",
    "s=121\n",
    "s1=s\n",
    "number=0\n",
    "while s>0:\n",
    "    temp=s%10\n",
    "    number=number*10+temp\n",
    "    s=s//10\n",
    "if(number==s1):\n",
    "    print(\"number palindrome\")"
   ]
  },
  {
   "cell_type": "code",
   "execution_count": 2,
   "id": "8086e7d5-412e-46f7-ae3f-d828117fea4f",
   "metadata": {},
   "outputs": [],
   "source": [
    "#Q9. Write a code to print odd numbers from 1 to 100 using list comprehension.\n",
    "l1=[]\n",
    "for i in range(100):\n",
    "    l1.append(i)\n",
    "    "
   ]
  },
  {
   "cell_type": "code",
   "execution_count": 17,
   "id": "48d7f511-fbda-4c34-bb5f-c89582a673cb",
   "metadata": {},
   "outputs": [],
   "source": [
    "def my(a):\n",
    "    l2=[]\n",
    "    for i in a:\n",
    "        if(i%2!=0):\n",
    "            l2.append(i)\n",
    "    return l2        "
   ]
  },
  {
   "cell_type": "code",
   "execution_count": 19,
   "id": "cf7bf2d7-2f8d-4ec2-a113-ee3dc621f179",
   "metadata": {},
   "outputs": [
    {
     "data": {
      "text/plain": [
       "[1,\n",
       " 3,\n",
       " 5,\n",
       " 7,\n",
       " 9,\n",
       " 11,\n",
       " 13,\n",
       " 15,\n",
       " 17,\n",
       " 19,\n",
       " 21,\n",
       " 23,\n",
       " 25,\n",
       " 27,\n",
       " 29,\n",
       " 31,\n",
       " 33,\n",
       " 35,\n",
       " 37,\n",
       " 39,\n",
       " 41,\n",
       " 43,\n",
       " 45,\n",
       " 47,\n",
       " 49,\n",
       " 51,\n",
       " 53,\n",
       " 55,\n",
       " 57,\n",
       " 59,\n",
       " 61,\n",
       " 63,\n",
       " 65,\n",
       " 67,\n",
       " 69,\n",
       " 71,\n",
       " 73,\n",
       " 75,\n",
       " 77,\n",
       " 79,\n",
       " 81,\n",
       " 83,\n",
       " 85,\n",
       " 87,\n",
       " 89,\n",
       " 91,\n",
       " 93,\n",
       " 95,\n",
       " 97,\n",
       " 99]"
      ]
     },
     "execution_count": 19,
     "metadata": {},
     "output_type": "execute_result"
    }
   ],
   "source": [
    "my(l1)"
   ]
  },
  {
   "cell_type": "code",
   "execution_count": 22,
   "id": "f9f05cd8-6196-4115-bcbe-5f3c368fd0d3",
   "metadata": {},
   "outputs": [],
   "source": [
    "o=[e for e in range(1,101) if e%2!=0]"
   ]
  },
  {
   "cell_type": "code",
   "execution_count": 24,
   "id": "c882b322-7fe1-476d-ade6-f791d11cfb18",
   "metadata": {},
   "outputs": [
    {
     "data": {
      "text/plain": [
       "[1,\n",
       " 3,\n",
       " 5,\n",
       " 7,\n",
       " 9,\n",
       " 11,\n",
       " 13,\n",
       " 15,\n",
       " 17,\n",
       " 19,\n",
       " 21,\n",
       " 23,\n",
       " 25,\n",
       " 27,\n",
       " 29,\n",
       " 31,\n",
       " 33,\n",
       " 35,\n",
       " 37,\n",
       " 39,\n",
       " 41,\n",
       " 43,\n",
       " 45,\n",
       " 47,\n",
       " 49,\n",
       " 51,\n",
       " 53,\n",
       " 55,\n",
       " 57,\n",
       " 59,\n",
       " 61,\n",
       " 63,\n",
       " 65,\n",
       " 67,\n",
       " 69,\n",
       " 71,\n",
       " 73,\n",
       " 75,\n",
       " 77,\n",
       " 79,\n",
       " 81,\n",
       " 83,\n",
       " 85,\n",
       " 87,\n",
       " 89,\n",
       " 91,\n",
       " 93,\n",
       " 95,\n",
       " 97,\n",
       " 99]"
      ]
     },
     "execution_count": 24,
     "metadata": {},
     "output_type": "execute_result"
    }
   ],
   "source": [
    "o"
   ]
  }
 ],
 "metadata": {
  "kernelspec": {
   "display_name": "Python 3 (ipykernel)",
   "language": "python",
   "name": "python3"
  },
  "language_info": {
   "codemirror_mode": {
    "name": "ipython",
    "version": 3
   },
   "file_extension": ".py",
   "mimetype": "text/x-python",
   "name": "python",
   "nbconvert_exporter": "python",
   "pygments_lexer": "ipython3",
   "version": "3.10.8"
  }
 },
 "nbformat": 4,
 "nbformat_minor": 5
}
